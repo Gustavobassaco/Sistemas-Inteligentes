{
 "cells": [
  {
   "cell_type": "code",
   "execution_count": 1,
   "metadata": {},
   "outputs": [
    {
     "name": "stderr",
     "output_type": "stream",
     "text": [
      "c:\\Users\\gusta\\anaconda3\\lib\\site-packages\\scipy\\__init__.py:155: UserWarning: A NumPy version >=1.18.5 and <1.25.0 is required for this version of SciPy (detected version 1.26.2\n",
      "  warnings.warn(f\"A NumPy version >={np_minversion} and <{np_maxversion}\"\n"
     ]
    }
   ],
   "source": [
    "from sklearn.model_selection import train_test_split\n",
    "from sklearn.datasets import load_breast_cancer, load_wine\n",
    "from sklearn.metrics import accuracy_score\n",
    "from sklearn.tree import DecisionTreeClassifier\n",
    "from sklearn.ensemble import VotingClassifier, BaggingClassifier, AdaBoostClassifier\n"
   ]
  },
  {
   "cell_type": "code",
   "execution_count": 2,
   "metadata": {},
   "outputs": [],
   "source": [
    "\n",
    "def train_voting(X_train, y_train, n_estimators):\n",
    "    base_learners = [('dt{}'.format(i), DecisionTreeClassifier()) for i in range(n_estimators)]\n",
    "    voting_classifier = VotingClassifier(estimators=base_learners, voting='hard')\n",
    "    voting_classifier.fit(X_train, y_train)\n",
    "    return voting_classifier"
   ]
  },
  {
   "cell_type": "code",
   "execution_count": 3,
   "metadata": {},
   "outputs": [],
   "source": [
    "\n",
    "def train_bagging(X_train, y_train, n_estimators):\n",
    "    base_learner = DecisionTreeClassifier()\n",
    "    bagging_classifier = BaggingClassifier(base_estimator=base_learner, n_estimators=n_estimators)\n",
    "    bagging_classifier.fit(X_train, y_train)\n",
    "    return bagging_classifier"
   ]
  },
  {
   "cell_type": "code",
   "execution_count": 4,
   "metadata": {},
   "outputs": [],
   "source": [
    "def train_adaboost(X_train, y_train, n_estimators):\n",
    "    base_learner = DecisionTreeClassifier()\n",
    "    adaboost_classifier = AdaBoostClassifier(base_estimator=base_learner, n_estimators=n_estimators)\n",
    "    adaboost_classifier.fit(X_train, y_train)\n",
    "    return adaboost_classifier"
   ]
  },
  {
   "cell_type": "code",
   "execution_count": 5,
   "metadata": {},
   "outputs": [],
   "source": [
    "\n",
    "def predict_model(model, X_test):\n",
    "    return model.predict(X_test)"
   ]
  },
  {
   "cell_type": "code",
   "execution_count": 6,
   "metadata": {},
   "outputs": [],
   "source": [
    "# Função de avaliação\n",
    "def evaluate_algorithm(algorithm, X_train, y_train, X_test, y_test, n_estimators):\n",
    "    # Treinar o modelo\n",
    "    model = algorithm(X_train, y_train, n_estimators)\n",
    "\n",
    "    # Realizar predições\n",
    "    y_pred = predict_model(model, X_test)\n",
    "\n",
    "    # Avaliar a precisão\n",
    "    accuracy = accuracy_score(y_test, y_pred)\n",
    "    return accuracy"
   ]
  },
  {
   "cell_type": "code",
   "execution_count": 28,
   "metadata": {},
   "outputs": [
    {
     "name": "stdout",
     "output_type": "stream",
     "text": [
      "\n",
      "Wine Dataset:\n",
      "   alcohol  malic_acid   ash  alcalinity_of_ash  magnesium  total_phenols  \\\n",
      "0    14.23        1.71  2.43               15.6      127.0           2.80   \n",
      "1    13.20        1.78  2.14               11.2      100.0           2.65   \n",
      "2    13.16        2.36  2.67               18.6      101.0           2.80   \n",
      "3    14.37        1.95  2.50               16.8      113.0           3.85   \n",
      "4    13.24        2.59  2.87               21.0      118.0           2.80   \n",
      "\n",
      "   flavanoids  nonflavanoid_phenols  proanthocyanins  color_intensity   hue  \\\n",
      "0        3.06                  0.28             2.29             5.64  1.04   \n",
      "1        2.76                  0.26             1.28             4.38  1.05   \n",
      "2        3.24                  0.30             2.81             5.68  1.03   \n",
      "3        3.49                  0.24             2.18             7.80  0.86   \n",
      "4        2.69                  0.39             1.82             4.32  1.04   \n",
      "\n",
      "   od280/od315_of_diluted_wines  proline  target  \n",
      "0                          3.92   1065.0       0  \n",
      "1                          3.40   1050.0       0  \n",
      "2                          3.17   1185.0       0  \n",
      "3                          3.45   1480.0       0  \n",
      "4                          2.93    735.0       0  \n"
     ]
    }
   ],
   "source": [
    "import pandas as pd\n",
    "from sklearn.datasets import load_breast_cancer, load_wine\n",
    "\n",
    "# Carregar conjuntos de dados\n",
    "breast_cancer = load_breast_cancer()\n",
    "wine = load_wine()\n",
    "\n",
    "# Converter para DataFrames\n",
    "breast_cancer_df = pd.DataFrame(data=breast_cancer.data, columns=breast_cancer.feature_names)\n",
    "wine_df = pd.DataFrame(data=wine.data, columns=wine.feature_names)\n",
    "\n",
    "# Adicionar a coluna alvo aos DataFrames\n",
    "breast_cancer_df['target'] = breast_cancer.target\n",
    "wine_df['target'] = wine.target\n",
    "\n",
    "print(\"\\nWine Dataset:\")\n",
    "print(wine_df.head())\n"
   ]
  },
  {
   "cell_type": "code",
   "execution_count": 29,
   "metadata": {},
   "outputs": [
    {
     "name": "stdout",
     "output_type": "stream",
     "text": [
      "Breast Cancer Dataset:\n",
      "   mean radius  mean texture  mean perimeter  mean area  mean smoothness  \\\n",
      "0        17.99         10.38          122.80     1001.0          0.11840   \n",
      "1        20.57         17.77          132.90     1326.0          0.08474   \n",
      "2        19.69         21.25          130.00     1203.0          0.10960   \n",
      "3        11.42         20.38           77.58      386.1          0.14250   \n",
      "4        20.29         14.34          135.10     1297.0          0.10030   \n",
      "\n",
      "   mean compactness  mean concavity  mean concave points  mean symmetry  \\\n",
      "0           0.27760          0.3001              0.14710         0.2419   \n",
      "1           0.07864          0.0869              0.07017         0.1812   \n",
      "2           0.15990          0.1974              0.12790         0.2069   \n",
      "3           0.28390          0.2414              0.10520         0.2597   \n",
      "4           0.13280          0.1980              0.10430         0.1809   \n",
      "\n",
      "   mean fractal dimension  ...  worst texture  worst perimeter  worst area  \\\n",
      "0                 0.07871  ...          17.33           184.60      2019.0   \n",
      "1                 0.05667  ...          23.41           158.80      1956.0   \n",
      "2                 0.05999  ...          25.53           152.50      1709.0   \n",
      "3                 0.09744  ...          26.50            98.87       567.7   \n",
      "4                 0.05883  ...          16.67           152.20      1575.0   \n",
      "\n",
      "   worst smoothness  worst compactness  worst concavity  worst concave points  \\\n",
      "0            0.1622             0.6656           0.7119                0.2654   \n",
      "1            0.1238             0.1866           0.2416                0.1860   \n",
      "2            0.1444             0.4245           0.4504                0.2430   \n",
      "3            0.2098             0.8663           0.6869                0.2575   \n",
      "4            0.1374             0.2050           0.4000                0.1625   \n",
      "\n",
      "   worst symmetry  worst fractal dimension  target  \n",
      "0          0.4601                  0.11890       0  \n",
      "1          0.2750                  0.08902       0  \n",
      "2          0.3613                  0.08758       0  \n",
      "3          0.6638                  0.17300       0  \n",
      "4          0.2364                  0.07678       0  \n",
      "\n",
      "[5 rows x 31 columns]\n"
     ]
    }
   ],
   "source": [
    "\n",
    "# Exibir as primeiras linhas dos DataFrames\n",
    "print(\"Breast Cancer Dataset:\")\n",
    "print(breast_cancer_df.head())\n"
   ]
  },
  {
   "cell_type": "code",
   "execution_count": 30,
   "metadata": {},
   "outputs": [],
   "source": [
    "# Dividir conjuntos de dados em treino e teste\n",
    "X_bc_train, X_bc_test, y_bc_train, y_bc_test = train_test_split(\n",
    "    breast_cancer.data, breast_cancer.target, test_size=0.2, random_state=42\n",
    ")\n",
    "\n",
    "X_wine_train, X_wine_test, y_wine_train, y_wine_test = train_test_split(\n",
    "    wine.data, wine.target, test_size=0.2, random_state=42\n",
    ")"
   ]
  },
  {
   "cell_type": "code",
   "execution_count": 31,
   "metadata": {},
   "outputs": [
    {
     "name": "stdout",
     "output_type": "stream",
     "text": [
      "Breast Cancer Dataset:\n",
      "Voting Accuracy: 93.86%\n",
      "Bagging Accuracy: 94.74%\n",
      "AdaBoost Accuracy: 92.98%\n",
      "\n",
      "Wine Dataset:\n",
      "Voting Accuracy: 94.44%\n",
      "Bagging Accuracy: 97.22%\n",
      "AdaBoost Accuracy: 94.44%\n"
     ]
    },
    {
     "name": "stderr",
     "output_type": "stream",
     "text": [
      "c:\\Users\\gusta\\anaconda3\\lib\\site-packages\\sklearn\\ensemble\\_base.py:166: FutureWarning: `base_estimator` was renamed to `estimator` in version 1.2 and will be removed in 1.4.\n",
      "  warnings.warn(\n",
      "c:\\Users\\gusta\\anaconda3\\lib\\site-packages\\sklearn\\ensemble\\_base.py:166: FutureWarning: `base_estimator` was renamed to `estimator` in version 1.2 and will be removed in 1.4.\n",
      "  warnings.warn(\n",
      "c:\\Users\\gusta\\anaconda3\\lib\\site-packages\\sklearn\\ensemble\\_base.py:166: FutureWarning: `base_estimator` was renamed to `estimator` in version 1.2 and will be removed in 1.4.\n",
      "  warnings.warn(\n",
      "c:\\Users\\gusta\\anaconda3\\lib\\site-packages\\sklearn\\ensemble\\_base.py:166: FutureWarning: `base_estimator` was renamed to `estimator` in version 1.2 and will be removed in 1.4.\n",
      "  warnings.warn(\n"
     ]
    }
   ],
   "source": [
    "# Definir o número de base learners\n",
    "n_estimators = 5\n",
    "\n",
    "# Avaliar os algoritmos nos conjuntos de dados\n",
    "accuracy_voting_bc = evaluate_algorithm(train_voting, X_bc_train, y_bc_train, X_bc_test, y_bc_test, n_estimators)\n",
    "accuracy_bagging_bc = evaluate_algorithm(train_bagging, X_bc_train, y_bc_train, X_bc_test, y_bc_test, n_estimators)\n",
    "accuracy_adaboost_bc = evaluate_algorithm(train_adaboost, X_bc_train, y_bc_train, X_bc_test, y_bc_test, n_estimators)\n",
    "\n",
    "accuracy_voting_wine = evaluate_algorithm(train_voting, X_wine_train, y_wine_train, X_wine_test, y_wine_test, n_estimators)\n",
    "accuracy_bagging_wine = evaluate_algorithm(train_bagging, X_wine_train, y_wine_train, X_wine_test, y_wine_test, n_estimators)\n",
    "accuracy_adaboost_wine = evaluate_algorithm(train_adaboost, X_wine_train, y_wine_train, X_wine_test, y_wine_test, n_estimators)\n",
    "\n",
    "# Exibir resultados\n",
    "print(\"Breast Cancer Dataset:\")\n",
    "print(\"Voting Accuracy: {:.2f}%\".format(accuracy_voting_bc * 100))\n",
    "print(\"Bagging Accuracy: {:.2f}%\".format(accuracy_bagging_bc * 100))\n",
    "print(\"AdaBoost Accuracy: {:.2f}%\".format(accuracy_adaboost_bc * 100))\n",
    "\n",
    "print(\"\\nWine Dataset:\")\n",
    "print(\"Voting Accuracy: {:.2f}%\".format(accuracy_voting_wine * 100))\n",
    "print(\"Bagging Accuracy: {:.2f}%\".format(accuracy_bagging_wine * 100))\n",
    "print(\"AdaBoost Accuracy: {:.2f}%\".format(accuracy_adaboost_wine * 100))"
   ]
  },
  {
   "cell_type": "code",
   "execution_count": 32,
   "metadata": {},
   "outputs": [
    {
     "name": "stderr",
     "output_type": "stream",
     "text": [
      "c:\\Users\\gusta\\anaconda3\\lib\\site-packages\\sklearn\\ensemble\\_base.py:166: FutureWarning: `base_estimator` was renamed to `estimator` in version 1.2 and will be removed in 1.4.\n",
      "  warnings.warn(\n"
     ]
    },
    {
     "name": "stdout",
     "output_type": "stream",
     "text": [
      "Breast Cancer Dataset:\n",
      "Voting Accuracy: 93.86%\n",
      "Bagging Accuracy: 94.74%\n",
      "AdaBoost Accuracy: 94.74%\n",
      "\n",
      "Wine Dataset:\n",
      "Voting Accuracy: 94.44%\n",
      "Bagging Accuracy: 94.44%\n",
      "AdaBoost Accuracy: 94.44%\n"
     ]
    },
    {
     "name": "stderr",
     "output_type": "stream",
     "text": [
      "c:\\Users\\gusta\\anaconda3\\lib\\site-packages\\sklearn\\ensemble\\_base.py:166: FutureWarning: `base_estimator` was renamed to `estimator` in version 1.2 and will be removed in 1.4.\n",
      "  warnings.warn(\n",
      "c:\\Users\\gusta\\anaconda3\\lib\\site-packages\\sklearn\\ensemble\\_base.py:166: FutureWarning: `base_estimator` was renamed to `estimator` in version 1.2 and will be removed in 1.4.\n",
      "  warnings.warn(\n",
      "c:\\Users\\gusta\\anaconda3\\lib\\site-packages\\sklearn\\ensemble\\_base.py:166: FutureWarning: `base_estimator` was renamed to `estimator` in version 1.2 and will be removed in 1.4.\n",
      "  warnings.warn(\n"
     ]
    }
   ],
   "source": [
    "# Definir o número de base learners\n",
    "n_estimators = 10\n",
    "\n",
    "# Avaliar os algoritmos nos conjuntos de dados\n",
    "accuracy_voting_bc = evaluate_algorithm(train_voting, X_bc_train, y_bc_train, X_bc_test, y_bc_test, n_estimators)\n",
    "accuracy_bagging_bc = evaluate_algorithm(train_bagging, X_bc_train, y_bc_train, X_bc_test, y_bc_test, n_estimators)\n",
    "accuracy_adaboost_bc = evaluate_algorithm(train_adaboost, X_bc_train, y_bc_train, X_bc_test, y_bc_test, n_estimators)\n",
    "\n",
    "accuracy_voting_wine = evaluate_algorithm(train_voting, X_wine_train, y_wine_train, X_wine_test, y_wine_test, n_estimators)\n",
    "accuracy_bagging_wine = evaluate_algorithm(train_bagging, X_wine_train, y_wine_train, X_wine_test, y_wine_test, n_estimators)\n",
    "accuracy_adaboost_wine = evaluate_algorithm(train_adaboost, X_wine_train, y_wine_train, X_wine_test, y_wine_test, n_estimators)\n",
    "\n",
    "# Exibir resultados\n",
    "print(\"Breast Cancer Dataset:\")\n",
    "print(\"Voting Accuracy: {:.2f}%\".format(accuracy_voting_bc * 100))\n",
    "print(\"Bagging Accuracy: {:.2f}%\".format(accuracy_bagging_bc * 100))\n",
    "print(\"AdaBoost Accuracy: {:.2f}%\".format(accuracy_adaboost_bc * 100))\n",
    "\n",
    "print(\"\\nWine Dataset:\")\n",
    "print(\"Voting Accuracy: {:.2f}%\".format(accuracy_voting_wine * 100))\n",
    "print(\"Bagging Accuracy: {:.2f}%\".format(accuracy_bagging_wine * 100))\n",
    "print(\"AdaBoost Accuracy: {:.2f}%\".format(accuracy_adaboost_wine * 100))"
   ]
  }
 ],
 "metadata": {
  "kernelspec": {
   "display_name": "base",
   "language": "python",
   "name": "python3"
  },
  "language_info": {
   "codemirror_mode": {
    "name": "ipython",
    "version": 3
   },
   "file_extension": ".py",
   "mimetype": "text/x-python",
   "name": "python",
   "nbconvert_exporter": "python",
   "pygments_lexer": "ipython3",
   "version": "3.9.13"
  }
 },
 "nbformat": 4,
 "nbformat_minor": 2
}
